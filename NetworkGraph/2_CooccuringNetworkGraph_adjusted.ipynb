{
 "cells": [
  {
   "cell_type": "markdown",
   "metadata": {},
   "source": [
    "### The 6 possible combinations from the 12 total combinations which ADHD=1 for AgeGroup = [\"Preschooler\", \"middelSchool\", \"Teenager\"] || Gender = [\"M\", \"F\"] are:\n",
    "\n",
    "1. Preschooler, Male, ADHD: (Preschooler, M, 1)\n",
    "\n",
    "3. Preschooler, Female, ADHD: (Preschooler, F, 1)\n",
    "\n",
    "5. middelChildhood, Male, ADHD: (middelChildhood, M, 1)\n",
    "\n",
    "\n",
    "7. middelChildhood, Female, ADHD: (middelChildhood, F, 1)\n",
    "\n",
    "9. Teenager, Male, ADHD: (Teenager, M, 1)\n",
    "\n",
    "11. Teenager, Female, ADHD: (Teenager, F, 1)\n"
   ]
  },
  {
   "cell_type": "markdown",
   "metadata": {},
   "source": [
    "# F90 co-occurrence graph: F90 co-occurrence diseases (Original level (adjusted  by color and size) in the ICD-10 hierarchy) "
   ]
  },
  {
   "cell_type": "code",
   "execution_count": null,
   "metadata": {},
   "outputs": [],
   "source": [
    "from allpackages import warnings, ast, os, nx, pd, plt, Image, load_dotenv\n",
    "# need to import network_graph_backend, which contains the implementation of the graphs\n",
    "from network_graph_backend import CoocurringDiagnosisNetworkGraph_adjusted"
   ]
  },
  {
   "cell_type": "markdown",
   "metadata": {},
   "source": [
    "#### 1. Coocurring network graph plot which satify this condition Gender = M, AgeGroup = PreSchooler and ADHD(Attention Deficit Hyperactivity Disorder) = 1"
   ]
  },
  {
   "cell_type": "code",
   "execution_count": null,
   "metadata": {},
   "outputs": [],
   "source": [
    "# Get SubsetDataset folder path from environment variables & read subset dataset CSV file\n",
    "subset_dataset_folder = os.getenv(\"SubsetDataset\")\n",
    "subset_dataset = os.path.join(\n",
    "    subset_dataset_folder, \"SubDataset_PreSchooler_M_ADHD.csv\"\n",
    ")\n",
    "\n",
    "original_df = pd.read_csv(subset_dataset)\n",
    "\n",
    "print(original_df.shape)\n",
    "\n",
    "network_graph = CoocurringDiagnosisNetworkGraph_adjusted()\n",
    "nwg = network_graph.load_plot_network_graph(original_df)\n",
    "\n",
    "FigureGraph_folder = os.getenv(\"save_path\")\n",
    "nwg.savefig(os.path.join(FigureGraph_folder, \"coocurring_diagnosis_network_graph_original_level_MPreschoolerADHD_adjusted.eps\"), bbox_inches=\"tight\",)\n",
    "nwg.savefig(os.path.join(FigureGraph_folder, \"coocurring_diagnosis_network_graph_original_level_MPreschoolerADHD_adjusted.jpg\"), bbox_inches=\"tight\",)\n",
    "nwg.show()\n"
   ]
  },
  {
   "cell_type": "markdown",
   "metadata": {},
   "source": [
    "#### 3. Coocurring network graph plot which satify this condition Gender = F, AgeGroup = PreSchooler and ADHD = 1"
   ]
  },
  {
   "cell_type": "code",
   "execution_count": null,
   "metadata": {},
   "outputs": [],
   "source": [
    "# Get SubsetDataset folder path from environment variables & read subset dataset CSV file\n",
    "subset_dataset_folder = os.getenv(\"SubsetDataset\")\n",
    "subset_dataset = os.path.join(\n",
    "    subset_dataset_folder, \"SubDataset_PreSchooler_F_ADHD.csv\"\n",
    ")\n",
    "\n",
    "original_df = pd.read_csv(subset_dataset)\n",
    "\n",
    "print(original_df.shape)\n",
    "\n",
    "network_graph = CoocurringDiagnosisNetworkGraph_adjusted()\n",
    "nwg = network_graph.load_plot_network_graph(original_df)\n",
    "\n",
    "FigureGraph_folder = os.getenv(\"save_path\")\n",
    "nwg.savefig(os.path.join(FigureGraph_folder, \"coocurring_diagnosis_network_graph_original_level_FPreschoolerADHD_adjusted.eps\"), bbox_inches=\"tight\",)\n",
    "nwg.savefig(os.path.join(FigureGraph_folder, \"coocurring_diagnosis_network_graph_original_level_FPreschoolerADHD_adjusted.jpg\"), bbox_inches=\"tight\",)\n",
    "nwg.show()\n"
   ]
  },
  {
   "cell_type": "markdown",
   "metadata": {},
   "source": [
    "#### 5. Coocurring network graph plot which satify this condition Gender = M, AgeGroup = middelChildhood and ADHD = 1"
   ]
  },
  {
   "cell_type": "code",
   "execution_count": null,
   "metadata": {},
   "outputs": [],
   "source": [
    "# Get SubsetDataset folder path from environment variables & read subset dataset CSV file\n",
    "subset_dataset_folder = os.getenv(\"SubsetDataset\")\n",
    "subset_dataset = os.path.join(\n",
    "    subset_dataset_folder, \"SubDataset_MiddelChildhood_M_ADHD.csv\"\n",
    ")\n",
    "\n",
    "original_df = pd.read_csv(subset_dataset)\n",
    "\n",
    "print(original_df.shape)\n",
    "\n",
    "network_graph = CoocurringDiagnosisNetworkGraph_adjusted()\n",
    "nwg = network_graph.load_plot_network_graph(original_df)\n",
    "\n",
    "FigureGraph_folder = os.getenv(\"save_path\")\n",
    "nwg.savefig(os.path.join(FigureGraph_folder, \"coocurring_diagnosis_network_graph_original_level_MMiddelChildhoodADHD_adjusted.eps\"), bbox_inches=\"tight\",)\n",
    "nwg.savefig(os.path.join(FigureGraph_folder, \"coocurring_diagnosis_network_graph_original_level_MMiddelChildhoodADHD_adjusted.jpg\"), bbox_inches=\"tight\",)\n",
    "nwg.show()\n"
   ]
  },
  {
   "cell_type": "markdown",
   "metadata": {},
   "source": [
    "#### 7. Coocurring network graph plot which satify this condition Gender = F, AgeGroup = middelChildhood and ADHD = 1"
   ]
  },
  {
   "cell_type": "code",
   "execution_count": null,
   "metadata": {},
   "outputs": [],
   "source": [
    "# Get SubsetDataset folder path from environment variables & read subset dataset CSV file\n",
    "subset_dataset_folder = os.getenv(\"SubsetDataset\")\n",
    "subset_dataset = os.path.join(\n",
    "    subset_dataset_folder, \"SubDataset_MiddelChildhood_F_ADHD.csv\"\n",
    ")\n",
    "\n",
    "original_df = pd.read_csv(subset_dataset)\n",
    "print(original_df.shape)\n",
    "\n",
    "network_graph = CoocurringDiagnosisNetworkGraph_adjusted()\n",
    "nwg = network_graph.load_plot_network_graph(original_df)\n",
    "\n",
    "FigureGraph_folder = os.getenv(\"save_path\")\n",
    "nwg.savefig(os.path.join(FigureGraph_folder, \"coocurring_diagnosis_network_graph_original_level_FMiddelChildhoodADHD_adjusted.eps\"), bbox_inches=\"tight\",)\n",
    "nwg.savefig(os.path.join(FigureGraph_folder, \"coocurring_diagnosis_network_graph_original_level_FMiddelChildhoodADHD_adjusted.jpg\"), bbox_inches=\"tight\",)\n",
    "nwg.show()"
   ]
  },
  {
   "cell_type": "markdown",
   "metadata": {},
   "source": [
    "#### 9. Coocurring network graph plot which satify this condition Gender = M, AgeGroup = Teenager and ADHD = 1"
   ]
  },
  {
   "cell_type": "code",
   "execution_count": null,
   "metadata": {},
   "outputs": [],
   "source": [
    "# Get SubsetDataset folder path from environment variables & read subset dataset CSV file\n",
    "subset_dataset_folder = os.getenv(\"SubsetDataset\")\n",
    "subset_dataset = os.path.join(subset_dataset_folder, \"SubDataset_Teenager_M_ADHD.csv\")\n",
    "\n",
    "original_df = pd.read_csv(subset_dataset)\n",
    "\n",
    "print(original_df.shape)\n",
    "\n",
    "network_graph = CoocurringDiagnosisNetworkGraph_adjusted()\n",
    "nwg = network_graph.load_plot_network_graph(original_df)\n",
    "\n",
    "FigureGraph_folder = os.getenv(\"save_path\")\n",
    "nwg.savefig(os.path.join(FigureGraph_folder, \"coocurring_diagnosis_network_graph_original_level_MTeenagerADHD_adjusted.eps\"), bbox_inches=\"tight\",)\n",
    "nwg.savefig(os.path.join(FigureGraph_folder, \"coocurring_diagnosis_network_graph_original_level_MTeenagerADHD_adjusted.jpg\"), bbox_inches=\"tight\",)\n",
    "nwg.show()\n"
   ]
  },
  {
   "cell_type": "markdown",
   "metadata": {},
   "source": [
    "#### 11. Coocurring network graph plot which satify this condition Gender = F, AgeGroup = Teenager and ADHD = 1"
   ]
  },
  {
   "cell_type": "code",
   "execution_count": null,
   "metadata": {},
   "outputs": [],
   "source": [
    "# Get SubsetDataset folder path from environment variables & read subset dataset CSV file\n",
    "subset_dataset_folder = os.getenv(\"SubsetDataset\")\n",
    "subset_dataset = os.path.join(subset_dataset_folder, \"SubDataset_Teenager_F_ADHD.csv\")\n",
    "\n",
    "original_df = pd.read_csv(subset_dataset)\n",
    "print(original_df.shape)\n",
    "\n",
    "network_graph = CoocurringDiagnosisNetworkGraph_adjusted()\n",
    "nwg = network_graph.load_plot_network_graph(original_df)\n",
    "\n",
    "FigureGraph_folder = os.getenv(\"save_path\")\n",
    "nwg.savefig(os.path.join(FigureGraph_folder, \"coocurring_diagnosis_network_graph_original_level_FTeenagerADHD_adjusted.eps\"), bbox_inches=\"tight\",)\n",
    "nwg.savefig(os.path.join(FigureGraph_folder, \"coocurring_diagnosis_network_graph_original_level_FTeenagerADHD_adjusted.jpg\"), bbox_inches=\"tight\",)\n",
    "nwg.show()"
   ]
  }
 ],
 "metadata": {
  "kernelspec": {
   "display_name": "My Kernel",
   "language": "python",
   "name": "mykernel"
  },
  "language_info": {
   "codemirror_mode": {
    "name": "ipython",
    "version": 3
   },
   "file_extension": ".py",
   "mimetype": "text/x-python",
   "name": "python",
   "nbconvert_exporter": "python",
   "pygments_lexer": "ipython3",
   "version": "3.8.8"
  }
 },
 "nbformat": 4,
 "nbformat_minor": 4
}

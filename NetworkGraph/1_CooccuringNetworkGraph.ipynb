{
 "cells": [
  {
   "cell_type": "markdown",
   "metadata": {},
   "source": [
    "#### A. All the possible combinations are 12 for AgeGroup = [\"Preschooler\", \"MiddleSchool\", \"Teenager\"] || Gender = [\"M\", \"F\"] || ADHD_NoADHD = [0, 1] are :\n",
    "\n",
    "1. Preschooler, Male, ADHD: (Preschooler, M, 1)\n",
    "\n",
    "\n",
    "3. Preschooler, Female, ADHD: (Preschooler, F, 1)\n",
    "\n",
    "5. MiddleChildhood, Male, ADHD: (MiddleChildhood, M, 1)\n",
    "\n",
    "\n",
    "7. MiddleChildhood, Female, ADHD: (MiddleChildhood, F, 1)\n",
    "\n",
    "\n",
    "9. Teenager, Male, ADHD: (Teenager, M, 1)\n",
    "\n",
    "\n",
    "11. Teenager, Female, ADHD: (Teenager, F, 1)\n"
   ]
  },
  {
   "cell_type": "markdown",
   "metadata": {},
   "source": [
    "##### 1. Coocurring network graph plot which satify this condition `Gender = M`, `AgeGroup = PreSchooler` and `ADHD(Attention Deficit Hyperactivity Disorder) = 1`\n",
    "**Selects and plot all the diagnosis associated with F90**"
   ]
  },
  {
   "cell_type": "markdown",
   "metadata": {},
   "source": [
    "1.1. Make the network graph by selecting only the diagnosis codes only from the dummied dataframe"
   ]
  },
  {
   "cell_type": "code",
   "execution_count": null,
   "metadata": {},
   "outputs": [],
   "source": [
    "####################\n",
    "\"\"\"Uses the network_graph_backend to create a co-occurring network graph from a dataframe for the diagnosis codes only\"\"\"\n",
    "# 1. Finds all the columns that starts with F90 in the dataframe\n",
    "# 2. List them in a list as string\n",
    "# 3. Create a column for F90 diagnosis and count the number of patients that have both F90 and the other diagnosis\n",
    "####################\n",
    "from allpackages import warnings, ast, os, nx, pd, plt, load_dotenv\n",
    "from network_graph_backend import CoocurringDiagnosisNetworkGraph\n",
    "\n",
    "load_dotenv()\n",
    "\n",
    "# Get SubsetDataset folder path from environment variables & read subset dataset CSV file\n",
    "subset_dataset_folder = os.getenv(\"SubsetDataset\")\n",
    "subset_dataset = os.path.join(\n",
    "    subset_dataset_folder, \"SubDataset_PreSchooler_M_ADHD.csv\"\n",
    ")\n",
    "\n",
    "original_df = pd.read_csv(subset_dataset)\n",
    "\n",
    "print(original_df.shape)\n",
    "\n",
    "network_graph = CoocurringDiagnosisNetworkGraph()\n",
    "plotted_graph = network_graph.load_plot_network_graph(original_df)\n",
    "\n",
    "FigureGraph_folder = os.getenv(\"FigureGraph\")\n",
    "plotted_graph.savefig(\n",
    "    os.path.join(FigureGraph_folder, \"PreSchooler_M_ADHD.png\"),\n",
    "    bbox_inches=\"tight\",\n",
    ")\n",
    "plotted_graph.show()"
   ]
  },
  {
   "cell_type": "markdown",
   "metadata": {},
   "source": [
    "##### 3. Coocurring network graph plot which satify this condition `Gender = F`, `AgeGroup = PreSchooler` and `ADHD_NoADHD = 1`\n",
    "**Selects and plot all the diagnosis associated with F90**"
   ]
  },
  {
   "cell_type": "markdown",
   "metadata": {},
   "source": [
    "3.1. Make the network graph by selecting only the diagnosis codes only from the dummied dataframe"
   ]
  },
  {
   "cell_type": "code",
   "execution_count": null,
   "metadata": {},
   "outputs": [],
   "source": [
    "####################\n",
    "# 1. Find all the columns that starts with F90 in the dataframe\n",
    "# 2. List them in a list as string\n",
    "# 3. Create a column for F90 diagnosis and count the number of patients that have both F90 and the other diagnosis\n",
    "####################\n",
    "from allpackages import warnings, ast, os, nx, pd, plt, load_dotenv\n",
    "from network_graph_backend import CoocurringDiagnosisNetworkGraph\n",
    "\n",
    "load_dotenv()\n",
    "\n",
    "# Get SubsetDataset folder path from environment variables & read subset dataset CSV file\n",
    "subset_dataset_folder = os.getenv(\"SubsetDataset\")\n",
    "subset_dataset = os.path.join(\n",
    "    subset_dataset_folder, \"SubDataset_PreSchooler_F_ADHD.csv\"\n",
    ")\n",
    "\n",
    "original_df = pd.read_csv(subset_dataset)\n",
    "\n",
    "print(original_df.shape)\n",
    "\n",
    "network_graph = CoocurringDiagnosisNetworkGraph()\n",
    "plotted_graph = network_graph.load_plot_network_graph(original_df)\n",
    "\n",
    "FigureGraph_folder = os.getenv(\"FigureGraph\")\n",
    "plotted_graph.savefig(\n",
    "    os.path.join(FigureGraph_folder, \"PreSchooler_F_ADHD.eps\"),\n",
    "    bbox_inches=\"tight\",\n",
    ")\n",
    "plotted_graph.show()"
   ]
  },
  {
   "cell_type": "markdown",
   "metadata": {},
   "source": [
    "##### 5. Coocurring network graph plot which satify this condition `Gender = M`, `AgeGroup = MiddleChildhood` and `ADHD_NoADHD = 1`\n",
    "**Selects and plot all the diagnosis associated with F90**"
   ]
  },
  {
   "cell_type": "markdown",
   "metadata": {},
   "source": [
    "5.1. Make the network graph by selecting only the diagnosis codes only from the dummied dataframe"
   ]
  },
  {
   "cell_type": "code",
   "execution_count": null,
   "metadata": {},
   "outputs": [],
   "source": [
    "from allpackages import warnings, ast, os, nx, pd, plt, load_dotenv\n",
    "from network_graph_backend import CoocurringDiagnosisNetworkGraph\n",
    "\n",
    "load_dotenv()\n",
    "\n",
    "# Get SubsetDataset folder path from environment variables & read subset dataset CSV file\n",
    "subset_dataset_folder = os.getenv(\"SubsetDataset\")\n",
    "subset_dataset = os.path.join(\n",
    "    subset_dataset_folder, \"SubDataset_MiddleChildhood_M_ADHD.csv\"\n",
    ")\n",
    "\n",
    "original_df = pd.read_csv(subset_dataset)\n",
    "\n",
    "print(original_df.shape)\n",
    "\n",
    "network_graph = CoocurringDiagnosisNetworkGraph()\n",
    "plotted_graph = network_graph.load_plot_network_graph(original_df)\n",
    "\n",
    "FigureGraph_folder = os.getenv(\"FigureGraph\")\n",
    "plotted_graph.savefig(\n",
    "    os.path.join(FigureGraph_folder, \"MiddleChildhood_M_ADHD.png\"),\n",
    "    bbox_inches=\"tight\",\n",
    ")\n",
    "plotted_graph.show()"
   ]
  },
  {
   "cell_type": "markdown",
   "metadata": {},
   "source": [
    "##### 7. Coocurring network graph plot which satify this condition `Gender = F`, `AgeGroup = MiddleChildhood` and `ADHD_NoADHD = 1`\n",
    "**Selects and plot all the diagnosis associated with F90**"
   ]
  },
  {
   "cell_type": "markdown",
   "metadata": {},
   "source": [
    "7.1. Make the network graph by selecting only the diagnosis codes only from the dummied dataframe"
   ]
  },
  {
   "cell_type": "code",
   "execution_count": null,
   "metadata": {},
   "outputs": [],
   "source": [
    "from allpackages import warnings, ast, os, nx, pd, plt, load_dotenv\n",
    "from network_graph_backend import CoocurringDiagnosisNetworkGraph\n",
    "\n",
    "load_dotenv()\n",
    "\n",
    "# Get SubsetDataset folder path from environment variables & read subset dataset CSV file\n",
    "subset_dataset_folder = os.getenv(\"SubsetDataset\")\n",
    "subset_dataset = os.path.join(\n",
    "    subset_dataset_folder, \"SubDataset_MiddleChildhood_F_ADHD.csv\"\n",
    ")\n",
    "\n",
    "original_df = pd.read_csv(subset_dataset)\n",
    "print(original_df.shape)\n",
    "\n",
    "network_graph = CoocurringDiagnosisNetworkGraph()\n",
    "plotted_graph = network_graph.load_plot_network_graph(original_df)\n",
    "\n",
    "FigureGraph_folder = os.getenv(\"FigureGraph\")\n",
    "plotted_graph.savefig(\n",
    "    os.path.join(FigureGraph_folder, \"MiddleChildhood_F_ADHD.png\"),\n",
    "    bbox_inches=\"tight\",\n",
    ")\n",
    "plotted_graph.show()"
   ]
  },
  {
   "cell_type": "markdown",
   "metadata": {},
   "source": [
    "##### 9. Coocurring network graph plot which satify this condition `Gender = M`, `AgeGroup = Teenager` and `ADHD_NoADHD = 1`\n",
    "**Selects and plot all the diagnosis associated with F90**"
   ]
  },
  {
   "cell_type": "markdown",
   "metadata": {},
   "source": [
    "9.1. Make the network graph by selecting only the diagnosis codes only from the dummied dataframe"
   ]
  },
  {
   "cell_type": "code",
   "execution_count": null,
   "metadata": {},
   "outputs": [],
   "source": [
    "from allpackages import warnings, ast, os, nx, pd, plt, load_dotenv\n",
    "from network_graph_backend import CoocurringDiagnosisNetworkGraph\n",
    "\n",
    "load_dotenv()\n",
    "\n",
    "# Get SubsetDataset folder path from environment variables & read subset dataset CSV file\n",
    "subset_dataset_folder = os.getenv(\"SubsetDataset\")\n",
    "subset_dataset = os.path.join(subset_dataset_folder, \"SubDataset_Teenager_M_ADHD.csv\")\n",
    "\n",
    "original_df = pd.read_csv(subset_dataset)\n",
    "\n",
    "print(original_df.shape)\n",
    "\n",
    "network_graph = CoocurringDiagnosisNetworkGraph()\n",
    "plotted_graph = network_graph.load_plot_network_graph(original_df)\n",
    "\n",
    "FigureGraph_folder = os.getenv(\"FigureGraph\")\n",
    "plotted_graph.savefig(\n",
    "    os.path.join(FigureGraph_folder, \"Teenager_M_ADHD.png\"),\n",
    "    bbox_inches=\"tight\",\n",
    ")\n",
    "plotted_graph.show()"
   ]
  },
  {
   "cell_type": "markdown",
   "metadata": {},
   "source": [
    "##### 11. Coocurring network graph plot which satify this condition `Gender = F`, `AgeGroup = Teenager` and `ADHD_NoADHD = 1`\n",
    "**Selects and plot all the diagnosis associated with F90**"
   ]
  },
  {
   "cell_type": "markdown",
   "metadata": {},
   "source": [
    "11.1. Make the network graph by selecting only the diagnosis codes only from the dummied dataframe"
   ]
  },
  {
   "cell_type": "code",
   "execution_count": null,
   "metadata": {},
   "outputs": [],
   "source": [
    "from allpackages import warnings, ast, os, nx, pd, plt, load_dotenv\n",
    "from network_graph_backend import CoocurringDiagnosisNetworkGraph\n",
    "\n",
    "load_dotenv()\n",
    "\n",
    "# Get SubsetDataset folder path from environment variables & read subset dataset CSV file\n",
    "subset_dataset_folder = os.getenv(\"SubsetDataset\")\n",
    "subset_dataset = os.path.join(subset_dataset_folder, \"SubDataset_Teenager_F_ADHD.csv\")\n",
    "\n",
    "original_df = pd.read_csv(subset_dataset)\n",
    "print(original_df.shape)\n",
    "\n",
    "network_graph = CoocurringDiagnosisNetworkGraph()\n",
    "plotted_graph = network_graph.load_plot_network_graph(original_df)\n",
    "\n",
    "FigureGraph_folder = os.getenv(\"FigureGraph\")\n",
    "plotted_graph.savefig(\n",
    "    os.path.join(FigureGraph_folder, \"Teenager_F_ADHD.png\"),\n",
    "    bbox_inches=\"tight\",\n",
    ")\n",
    "plotted_graph.show()"
   ]
  },
  {
   "cell_type": "markdown",
   "metadata": {},
   "source": [
    "### B. Level 1 hirarchy of ICD codes and cooccurance network graph"
   ]
  },
  {
   "cell_type": "code",
   "execution_count": null,
   "metadata": {},
   "outputs": [],
   "source": [
    "####################\n",
    "\"\"\"Uses the network_graph_backend to create a co-occurring network graph from a dataframe for the diagnosis codes only\"\"\"\n",
    "# 1. Finds all the columns that starts with F90 in the dataframe\n",
    "# 2. List them in a list as string\n",
    "# 3. Create a column for F90 diagnosis and count the number of patients that have both F90 and the other diagnosis\n",
    "####################\n",
    "from allpackages import warnings, ast, os, nx, pd, plt, load_dotenv\n",
    "from network_graph_backend import CoocurringDiagnosisNetworkGraph_higherlevel1\n",
    "\n",
    "load_dotenv()\n",
    "\n",
    "# Get SubsetDataset folder path from environment variables & read subset dataset CSV file\n",
    "subset_dataset_folder = os.getenv(\"SubsetDataset\")\n",
    "subset_dataset = os.path.join(\n",
    "    subset_dataset_folder, \"SubDataset_PreSchooler_M_ADHD.csv\"\n",
    ")\n",
    "\n",
    "original_df = pd.read_csv(subset_dataset)\n",
    "\n",
    "print(original_df.shape)\n",
    "\n",
    "network_graph = CoocurringDiagnosisNetworkGraph_higherlevel1()\n",
    "network_graph.load_plot_network_graph(original_df)"
   ]
  }
 ],
 "metadata": {
  "kernelspec": {
   "display_name": "Python 3 (ipykernel)",
   "language": "python",
   "name": "python3"
  },
  "language_info": {
   "codemirror_mode": {
    "name": "ipython",
    "version": 3
   },
   "file_extension": ".py",
   "mimetype": "text/x-python",
   "name": "python",
   "nbconvert_exporter": "python",
   "pygments_lexer": "ipython3",
   "version": "3.11.8"
  }
 },
 "nbformat": 4,
 "nbformat_minor": 4
}

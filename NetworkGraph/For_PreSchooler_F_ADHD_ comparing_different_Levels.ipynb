{
 "cells": [
  {
   "cell_type": "markdown",
   "metadata": {},
   "source": [
    "### The 6 possible combinations from the 12 total combinations which ADHD=1 for AgeGroup = [\"Preschooler\", \"MiddleSchool\", \"Teenager\"] || Gender = [\"M\", \"F\"] are:\n",
    "\n",
    "1. Preschooler, Male, ADHD: (Preschooler, M, 1)\n",
    "\n",
    "3. Preschooler, Female, ADHD: (Preschooler, F, 1)\n",
    "\n",
    "5. MiddleChildhood, Male, ADHD: (MiddleChildhood, M, 1)\n",
    "\n",
    "\n",
    "7. MiddleChildhood, Female, ADHD: (MiddleChildhood, F, 1)\n",
    "\n",
    "9. Teenager, Male, ADHD: (Teenager, M, 1)\n",
    "\n",
    "11. Teenager, Female, ADHD: (Teenager, F, 1)\n"
   ]
  },
  {
   "cell_type": "markdown",
   "metadata": {},
   "source": [
    "# For_PreSchooler_F_ADHD_ comparing_different_Levels"
   ]
  },
  {
   "cell_type": "code",
   "execution_count": null,
   "metadata": {},
   "outputs": [],
   "source": [
    "####################\n",
    "\"\"\"Uses the network_graph_backend to create a co-occurring network graph from a dataframe for the diagnosis codes only\"\"\"\n",
    "# 1. Finds all the columns that starts with F90 in the dataframe\n",
    "# 2. List them in a list as string\n",
    "# 3. Create a column for F90 diagnosis and count the number of patients that have both F90 and the other diagnosis\n",
    "####################"
   ]
  },
  {
   "cell_type": "code",
   "execution_count": null,
   "metadata": {},
   "outputs": [],
   "source": [
    "from allpackages import warnings, ast, os, nx, pd, plt, Image, load_dotenv\n",
    "\n",
    "from network_graph_backend import CoocurringDiagnosisNetworkGraph\n",
    "from network_graph_backend import CoocurringDiagnosisNetworkGraph_adjusted\n",
    "from network_graph_backend import CoocurringDiagnosisNetworkGraph_higherlevel31\n",
    "from network_graph_backend import CoocurringDiagnosisNetworkGraph_higherlevel11"
   ]
  },
  {
   "cell_type": "code",
   "execution_count": null,
   "metadata": {},
   "outputs": [],
   "source": [
    "# Original level\n",
    "###########################################################################################\n",
    "# Get SubsetDataset folder path from environment variables & read subset dataset CSV file\n",
    "subset_dataset_folder = os.getenv(\"SubsetDataset\")\n",
    "subset_dataset = os.path.join(\n",
    "    subset_dataset_folder, \"SubDataset_PreSchooler_F_ADHD.csv\"\n",
    ")\n",
    "\n",
    "original_df = pd.read_csv(subset_dataset)\n",
    "\n",
    "print(original_df.shape)\n",
    "\n",
    "network_graph = CoocurringDiagnosisNetworkGraph()\n",
    "nwg = network_graph.load_plot_network_graph(original_df)\n",
    "FigureGraph_folder = os.getenv(\"save_path\")\n",
    "\n",
    "nwg.savefig(os.path.join(FigureGraph_folder, \"coocurring_diagnosis_network_graph_original_level_FPreschoolerADHD.eps\"), bbox_inches=\"tight\",)\n",
    "nwg.savefig(os.path.join(FigureGraph_folder, \"coocurring_diagnosis_network_graph_original_level_FPreschoolerADHD.jpg\"), bbox_inches=\"tight\",)\n",
    "nwg.show()\n"
   ]
  },
  {
   "cell_type": "code",
   "execution_count": null,
   "metadata": {},
   "outputs": [],
   "source": [
    "# Adjusted original level\n",
    "###########################################################################################\n",
    "# Get SubsetDataset folder path from environment variables & read subset dataset CSV file\n",
    "subset_dataset_folder = os.getenv(\"SubsetDataset\")\n",
    "subset_dataset = os.path.join(\n",
    "    subset_dataset_folder, \"SubDataset_PreSchooler_F_ADHD.csv\"\n",
    ")\n",
    "\n",
    "original_df = pd.read_csv(subset_dataset)\n",
    "\n",
    "print(original_df.shape)\n",
    "\n",
    "network_graph = CoocurringDiagnosisNetworkGraph_adjusted()\n",
    "nwg = network_graph.load_plot_network_graph(original_df)\n",
    "\n",
    "FigureGraph_folder = os.getenv(\"save_path\")\n",
    "nwg.savefig(os.path.join(FigureGraph_folder, \"coocurring_diagnosis_network_graph_original_level_adjusted_FPreschoolerADHD.eps\"), bbox_inches=\"tight\",)\n",
    "nwg.savefig(os.path.join(FigureGraph_folder, \"coocurring_diagnosis_network_graph_original_level_adjusted_FPreschoolerADHD.jpg\"), bbox_inches=\"tight\",)\n",
    "nwg.show()\n"
   ]
  },
  {
   "cell_type": "code",
   "execution_count": null,
   "metadata": {},
   "outputs": [],
   "source": [
    "# Level 3\n",
    "###########################################################################################\n",
    "# Get SubsetDataset folder path from environment variables & read subset dataset CSV file\n",
    "subset_dataset_folder = os.getenv(\"SubsetDataset\")\n",
    "subset_dataset = os.path.join(\n",
    "    subset_dataset_folder, \"SubDataset_PreSchooler_F_ADHD.csv\"\n",
    ")\n",
    "\n",
    "original_df = pd.read_csv(subset_dataset)\n",
    "\n",
    "print(original_df.shape)\n",
    "\n",
    "network_graph = CoocurringDiagnosisNetworkGraph_higherlevel31()\n",
    "nwg = network_graph.load_plot_network_graph(original_df)\n",
    "\n",
    "FigureGraph_folder = os.getenv(\"save_path\")\n",
    "nwg.savefig(os.path.join(FigureGraph_folder, \"coocurring_diagnosis_network_graph_Level3_FPreschoolerADHD.eps\"), bbox_inches=\"tight\",)\n",
    "nwg.savefig(os.path.join(FigureGraph_folder, \"coocurring_diagnosis_network_graph_Level3_FPreschoolerADHD.jpg\"), bbox_inches=\"tight\",)\n",
    "nwg.show()\n"
   ]
  },
  {
   "cell_type": "code",
   "execution_count": null,
   "metadata": {},
   "outputs": [],
   "source": [
    "# Level 1\n",
    "###########################################################################################\n",
    "# Get SubsetDataset folder path from environment variables & read subset dataset CSV file\n",
    "subset_dataset_folder = os.getenv(\"SubsetDataset\")\n",
    "subset_dataset = os.path.join(\n",
    "    subset_dataset_folder, \"SubDataset_PreSchooler_F_ADHD.csv\"\n",
    ")\n",
    "\n",
    "original_df = pd.read_csv(subset_dataset)\n",
    "\n",
    "print(original_df.shape)\n",
    "\n",
    "network_graph = CoocurringDiagnosisNetworkGraph_higherlevel11()\n",
    "nwg = network_graph.load_plot_network_graph(original_df)\n",
    "\n",
    "FigureGraph_folder = os.getenv(\"save_path\")\n",
    "nwg.savefig(os.path.join(FigureGraph_folder, \"coocurring_diagnosis_network_graph_Level1_FPreschoolerADHD.eps\"), bbox_inches=\"tight\",)\n",
    "nwg.savefig(os.path.join(FigureGraph_folder, \"coocurring_diagnosis_network_graph_Level1_FPreschoolerADHD.jpg\"), bbox_inches=\"tight\",)\n",
    "nwg.show()\n"
   ]
  }
 ],
 "metadata": {
  "kernelspec": {
   "display_name": "My Kernel",
   "language": "python",
   "name": "mykernel"
  },
  "language_info": {
   "codemirror_mode": {
    "name": "ipython",
    "version": 3
   },
   "file_extension": ".py",
   "mimetype": "text/x-python",
   "name": "python",
   "nbconvert_exporter": "python",
   "pygments_lexer": "ipython3",
   "version": "3.8.8"
  }
 },
 "nbformat": 4,
 "nbformat_minor": 4
}

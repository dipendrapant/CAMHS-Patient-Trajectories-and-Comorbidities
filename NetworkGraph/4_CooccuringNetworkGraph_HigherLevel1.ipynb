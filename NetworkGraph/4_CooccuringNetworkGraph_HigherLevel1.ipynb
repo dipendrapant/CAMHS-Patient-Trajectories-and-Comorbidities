{
 "cells": [
  {
   "cell_type": "markdown",
   "metadata": {},
   "source": [
    "### The 6 possible combinations from the 12 total combinations which ADHD=1 for AgeGroup = [\"Preschooler\", \"MiddleSchool\", \"Teenager\"] || Gender = [\"M\", \"F\"] are:\n",
    "\n",
    "1. Preschooler, Male, ADHD: (Preschooler, M, 1)\n",
    "\n",
    "3. Preschooler, Female, ADHD: (Preschooler, F, 1)\n",
    "\n",
    "5. MiddleChildhood, Male, ADHD: (MiddleChildhood, M, 1)\n",
    "\n",
    "\n",
    "7. MiddleChildhood, Female, ADHD: (MiddleChildhood, F, 1)\n",
    "\n",
    "9. Teenager, Male, ADHD: (Teenager, M, 1)\n",
    "\n",
    "11. Teenager, Female, ADHD: (Teenager, F, 1)\n"
   ]
  },
  {
   "cell_type": "markdown",
   "metadata": {},
   "source": [
    "# F90 co-occurrence graph: F90 co-occurrence diseases (level 1 in the ICD-10 hierarchy - Represent the broadest category of conditions)"
   ]
  },
  {
   "cell_type": "code",
   "execution_count": null,
   "metadata": {},
   "outputs": [],
   "source": [
    "from allpackages import warnings, ast, os, nx, pd, plt, load_dotenv\n",
    "# need to import network_graph_backend, which contains the implementation of the graphs\n",
    "from network_graph_backend import CoocurringDiagnosisNetworkGraph_higherlevel1\n",
    "from network_graph_backend import CoocurringDiagnosisNetworkGraph_higherlevel11"
   ]
  },
  {
   "cell_type": "markdown",
   "metadata": {},
   "source": [
    "#### 1. Coocurring network graph plot which satify this condition Gender = M, AgeGroup = PreSchooler and ADHD(Attention Deficit Hyperactivity Disorder) = 1"
   ]
  },
  {
   "cell_type": "code",
   "execution_count": null,
   "metadata": {},
   "outputs": [],
   "source": [
    "# Get SubsetDataset folder path from environment variables & read subset dataset CSV file\n",
    "subset_dataset_folder = os.getenv(\"SubsetDataset\")\n",
    "subset_dataset = os.path.join(\n",
    "    subset_dataset_folder, \"SubDataset_PreSchooler_M_ADHD.csv\"\n",
    ")\n",
    "\n",
    "original_df = pd.read_csv(subset_dataset)\n",
    "\n",
    "print(original_df.shape)\n",
    "\n",
    "network_graph = CoocurringDiagnosisNetworkGraph_higherlevel1()\n",
    "nwg = network_graph.load_plot_network_graph(original_df)\n",
    "\n",
    "FigureGraph_folder = os.getenv(\"save_path\")\n",
    "nwg.savefig(os.path.join(FigureGraph_folder, \"coocurring_diagnosis_network_graph_higher_level1_MPreschoolerADHD_samesize.eps\"), bbox_inches=\"tight\",)\n",
    "nwg.savefig(os.path.join(FigureGraph_folder, \"coocurring_diagnosis_network_graph_higher_level1_MPreschoolerADHD_samesize.jpg\"), bbox_inches=\"tight\",)\n",
    "nwg.show()\n"
   ]
  },
  {
   "cell_type": "code",
   "execution_count": null,
   "metadata": {},
   "outputs": [],
   "source": [
    "# Get SubsetDataset folder path from environment variables & read subset dataset CSV file\n",
    "subset_dataset_folder = os.getenv(\"SubsetDataset\")\n",
    "subset_dataset = os.path.join(\n",
    "    subset_dataset_folder, \"SubDataset_PreSchooler_M_ADHD.csv\"\n",
    ")\n",
    "\n",
    "original_df = pd.read_csv(subset_dataset)\n",
    "\n",
    "print(original_df.shape)\n",
    "\n",
    "network_graph = CoocurringDiagnosisNetworkGraph_higherlevel11()\n",
    "nwg = network_graph.load_plot_network_graph(original_df)\n",
    "\n",
    "FigureGraph_folder = os.getenv(\"save_path\")\n",
    "nwg.savefig(os.path.join(FigureGraph_folder, \"coocurring_diagnosis_network_graph_higher_level1_MPreschoolerADHD.eps\"), bbox_inches=\"tight\",)\n",
    "nwg.savefig(os.path.join(FigureGraph_folder, \"coocurring_diagnosis_network_graph_higher_level1_MPreschoolerADHD.jpg\"), bbox_inches=\"tight\",)\n",
    "nwg.show()"
   ]
  },
  {
   "cell_type": "markdown",
   "metadata": {},
   "source": [
    "#### 3. Coocurring network graph plot which satify this condition Gender = F, AgeGroup = PreSchooler and ADHD = 1"
   ]
  },
  {
   "cell_type": "code",
   "execution_count": null,
   "metadata": {},
   "outputs": [],
   "source": [
    "# Get SubsetDataset folder path from environment variables & read subset dataset CSV file\n",
    "subset_dataset_folder = os.getenv(\"SubsetDataset\")\n",
    "subset_dataset = os.path.join(\n",
    "    subset_dataset_folder, \"SubDataset_PreSchooler_F_ADHD.csv\"\n",
    ")\n",
    "\n",
    "original_df = pd.read_csv(subset_dataset)\n",
    "\n",
    "print(original_df.shape)\n",
    "\n",
    "network_graph = CoocurringDiagnosisNetworkGraph_higherlevel11()\n",
    "nwg = network_graph.load_plot_network_graph(original_df)\n",
    "\n",
    "FigureGraph_folder = os.getenv(\"save_path\")\n",
    "nwg.savefig(os.path.join(FigureGraph_folder, \"coocurring_diagnosis_network_graph_Higher_level1_FPreschoolerADHD.eps\"), bbox_inches=\"tight\",)\n",
    "nwg.savefig(os.path.join(FigureGraph_folder, \"coocurring_diagnosis_network_graph_Higher_level1_FPreschoolerADHD.jpg\"), bbox_inches=\"tight\",)\n",
    "nwg.show()\n"
   ]
  },
  {
   "cell_type": "markdown",
   "metadata": {},
   "source": [
    "#### 5. Coocurring network graph plot which satify this condition Gender = M, AgeGroup = MiddleChildhood and ADHD = 1"
   ]
  },
  {
   "cell_type": "code",
   "execution_count": null,
   "metadata": {},
   "outputs": [],
   "source": [
    "# Get SubsetDataset folder path from environment variables & read subset dataset CSV file\n",
    "subset_dataset_folder = os.getenv(\"SubsetDataset\")\n",
    "subset_dataset = os.path.join(\n",
    "    subset_dataset_folder, \"SubDataset_MiddelChildhood_M_ADHD.csv\"\n",
    ")\n",
    "\n",
    "original_df = pd.read_csv(subset_dataset)\n",
    "\n",
    "print(original_df.shape)\n",
    "\n",
    "network_graph = CoocurringDiagnosisNetworkGraph_higherlevel11()\n",
    "nwg = network_graph.load_plot_network_graph(original_df)\n",
    "\n",
    "FigureGraph_folder = os.getenv(\"save_path\")\n",
    "nwg.savefig(os.path.join(FigureGraph_folder, \"coocurring_diagnosis_network_graph_higher_level1_MMiddelChildhoodADHD.eps\"), bbox_inches=\"tight\",)\n",
    "nwg.savefig(os.path.join(FigureGraph_folder, \"coocurring_diagnosis_network_graph_higher_level1_MMiddelChildhoodADHD.jpg\"), bbox_inches=\"tight\",)\n",
    "nwg.show()\n"
   ]
  },
  {
   "cell_type": "markdown",
   "metadata": {},
   "source": [
    "#### 7. Coocurring network graph plot which satify this condition Gender = F, AgeGroup = MiddleChildhood and ADHD = 1"
   ]
  },
  {
   "cell_type": "code",
   "execution_count": null,
   "metadata": {},
   "outputs": [],
   "source": [
    "# Get SubsetDataset folder path from environment variables & read subset dataset CSV file\n",
    "subset_dataset_folder = os.getenv(\"SubsetDataset\")\n",
    "subset_dataset = os.path.join(\n",
    "    subset_dataset_folder, \"SubDataset_MiddelChildhood_F_ADHD.csv\"\n",
    ")\n",
    "\n",
    "original_df = pd.read_csv(subset_dataset)\n",
    "print(original_df.shape)\n",
    "\n",
    "network_graph = CoocurringDiagnosisNetworkGraph_higherlevel11()\n",
    "nwg = network_graph.load_plot_network_graph(original_df)\n",
    "\n",
    "FigureGraph_folder = os.getenv(\"save_path\")\n",
    "nwg.savefig(os.path.join(FigureGraph_folder, \"coocurring_diagnosis_network_graph_higher_level1_FMiddelChildhoodADHD.eps\"), bbox_inches=\"tight\",)\n",
    "nwg.savefig(os.path.join(FigureGraph_folder, \"coocurring_diagnosis_network_graph_higher_level1_FMiddelChildhoodADHD.jpg\"), bbox_inches=\"tight\",)\n",
    "nwg.show()"
   ]
  },
  {
   "cell_type": "markdown",
   "metadata": {},
   "source": [
    "#### 9. Coocurring network graph plot which satify this condition Gender = M, AgeGroup = Teenager and ADHD = 1"
   ]
  },
  {
   "cell_type": "code",
   "execution_count": null,
   "metadata": {},
   "outputs": [],
   "source": [
    "# Get SubsetDataset folder path from environment variables & read subset dataset CSV file\n",
    "subset_dataset_folder = os.getenv(\"SubsetDataset\")\n",
    "subset_dataset = os.path.join(subset_dataset_folder, \"SubDataset_Teenager_M_ADHD.csv\")\n",
    "\n",
    "original_df = pd.read_csv(subset_dataset)\n",
    "\n",
    "print(original_df.shape)\n",
    "\n",
    "network_graph = CoocurringDiagnosisNetworkGraph_higherlevel11()\n",
    "nwg = network_graph.load_plot_network_graph(original_df)\n",
    "\n",
    "FigureGraph_folder = os.getenv(\"save_path\")\n",
    "nwg.savefig(os.path.join(FigureGraph_folder, \"coocurring_diagnosis_network_graph_higher_level1_MTeenagerADHD.eps\"), bbox_inches=\"tight\",)\n",
    "nwg.savefig(os.path.join(FigureGraph_folder, \"coocurring_diagnosis_network_graph_higher_level1_MTeenagerADHD.jpg\"), bbox_inches=\"tight\",)\n",
    "nwg.show()\n"
   ]
  },
  {
   "cell_type": "markdown",
   "metadata": {},
   "source": [
    "#### 11. Coocurring network graph plot which satify this condition Gender = F, AgeGroup = Teenager and ADHD = 1"
   ]
  },
  {
   "cell_type": "code",
   "execution_count": null,
   "metadata": {},
   "outputs": [],
   "source": [
    "# Get SubsetDataset folder path from environment variables & read subset dataset CSV file\n",
    "subset_dataset_folder = os.getenv(\"SubsetDataset\")\n",
    "subset_dataset = os.path.join(subset_dataset_folder, \"SubDataset_Teenager_F_ADHD.csv\")\n",
    "\n",
    "original_df = pd.read_csv(subset_dataset)\n",
    "print(original_df.shape)\n",
    "\n",
    "network_graph = CoocurringDiagnosisNetworkGraph_higherlevel11()\n",
    "nwg = network_graph.load_plot_network_graph(original_df)\n",
    "\n",
    "FigureGraph_folder = os.getenv(\"save_path\")\n",
    "nwg.savefig(os.path.join(FigureGraph_folder, \"coocurring_diagnosis_network_graph_higher_level1_FTeenagerADHD.eps\"), bbox_inches=\"tight\",)\n",
    "nwg.savefig(os.path.join(FigureGraph_folder, \"coocurring_diagnosis_network_graph_higher_level1_FTeenagerADHD.jpg\"), bbox_inches=\"tight\",)\n",
    "nwg.show()\n"
   ]
  }
 ],
 "metadata": {
  "kernelspec": {
   "display_name": "My Kernel",
   "language": "python",
   "name": "mykernel"
  },
  "language_info": {
   "codemirror_mode": {
    "name": "ipython",
    "version": 3
   },
   "file_extension": ".py",
   "mimetype": "text/x-python",
   "name": "python",
   "nbconvert_exporter": "python",
   "pygments_lexer": "ipython3",
   "version": "3.8.8"
  }
 },
 "nbformat": 4,
 "nbformat_minor": 4
}
